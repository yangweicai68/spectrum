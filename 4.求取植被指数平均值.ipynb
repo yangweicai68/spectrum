{
 "cells": [
  {
   "cell_type": "code",
   "execution_count": 4,
   "metadata": {},
   "outputs": [],
   "source": [
    "##加载包\n",
    "import numpy as np\n",
    "import pandas as pd\n",
    "##import os\n",
    "\n",
    "##读取叶面积指数\n",
    "df=pd.read_excel(r'D:\\1博士2\\2019试验数据\\高光谱\\植被指数叶面积相关性-总不覆膜.xlsx')\n",
    "\n",
    "##求取平均值\n",
    "df2=[]\n",
    "df2=pd.pivot_table(df,index=['日期','处理'])\n",
    "df2.to_excel(r'D:\\1博士2\\2019试验数据\\高光谱\\植被指数叶面积相关性-平均值.xlsx')"
   ]
  },
  {
   "cell_type": "code",
   "execution_count": null,
   "metadata": {},
   "outputs": [],
   "source": []
  }
 ],
 "metadata": {
  "kernelspec": {
   "display_name": "Python 3",
   "language": "python",
   "name": "python3"
  },
  "language_info": {
   "codemirror_mode": {
    "name": "ipython",
    "version": 3
   },
   "file_extension": ".py",
   "mimetype": "text/x-python",
   "name": "python",
   "nbconvert_exporter": "python",
   "pygments_lexer": "ipython3",
   "version": "3.7.0"
  }
 },
 "nbformat": 4,
 "nbformat_minor": 2
}
