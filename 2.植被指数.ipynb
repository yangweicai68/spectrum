{
 "cells": [
  {
   "cell_type": "markdown",
   "metadata": {},
   "source": [
    "# 求取植被指数"
   ]
  },
  {
   "cell_type": "code",
   "execution_count": 8,
   "metadata": {},
   "outputs": [],
   "source": [
    "##加载包\n",
    "import numpy as np\n",
    "import pandas as pd\n",
    "##import os\n",
    "\n",
    "##读取数据\n",
    "##data_dir = r'D:\\1博士2\\2019试验数据\\高光谱\\825光谱数据'\n",
    "df=pd.read_excel(r'D:\\1博士2\\2019试验数据\\高光谱\\812光谱数据\\高光谱数据812-python.xlsx')\n",
    "##df[:5]\n",
    "\n",
    "##提取波段参数，求植被指数\n",
    "nir=df['865']\n",
    "red=df['650']\n",
    "green=df['563']\n",
    "blue=df['483']\n",
    "\n",
    "##归一化植被指数\n",
    "NDVI= (nir-red)/(nir+red)\n",
    "##比值植被指数\n",
    "RVI=nir/red\n",
    "##绿光比值植被指数\n",
    "GRVI=nir/green\n",
    "##增强型植被指数1\n",
    "EVI1=2.5 * (nir-red) / (nir+6*red-7.5*blue)\n",
    "##增强型植被指数2\n",
    "EVI2=2.5 * (nir-red) / (nir+2.4*red+1)\n",
    "##土壤调整植被指数\n",
    "SAVI=1.5*(nir-red)/(nir+red+0.5)\n",
    "##优化的土壤调整植被指数\n",
    "OSAVI=1.16*(nir-red)/(nir-red+0.16)\n",
    "\n",
    "##df1.index=df.index\n",
    "##df1['NDVI','RVI','GRVI','EVI1','EVI2','SAVI','OSAVI']=[NDVI,RVI,GRVI,EVI1,EVI2,SAVI,OSAVI]\n",
    "\n",
    "##df['NDVI','RVI','GRVI','EVI1','EVI2','SAVI','OSAVI']=[NDVI,RVI,GRVI,EVI1,EVI2,SAVI,OSAVI]\n",
    "##df1.index=[(0:204)]\n",
    "df['NDVI']= NDVI\n",
    "df['RVI']= RVI\n",
    "df['GRVI']= GRVI\n",
    "df['EVI1']= EVI1\n",
    "df['EVI2']= EVI2\n",
    "df['SAVI']= SAVI\n",
    "df['OSAVI']= OSAVI\n",
    "\n",
    "\n",
    "df.to_excel(r'D:\\1博士2\\2019试验数据\\高光谱\\812光谱数据\\植被指数812.xlsx')"
   ]
  },
  {
   "cell_type": "code",
   "execution_count": null,
   "metadata": {},
   "outputs": [],
   "source": []
  }
 ],
 "metadata": {
  "kernelspec": {
   "display_name": "Python 3",
   "language": "python",
   "name": "python3"
  },
  "language_info": {
   "codemirror_mode": {
    "name": "ipython",
    "version": 3
   },
   "file_extension": ".py",
   "mimetype": "text/x-python",
   "name": "python",
   "nbconvert_exporter": "python",
   "pygments_lexer": "ipython3",
   "version": "3.7.0"
  }
 },
 "nbformat": 4,
 "nbformat_minor": 2
}
